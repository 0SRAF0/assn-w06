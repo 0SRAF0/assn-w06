{
 "cells": [
  {
   "metadata": {
    "ExecuteTime": {
     "end_time": "2025-09-29T22:02:43.162427Z",
     "start_time": "2025-09-29T22:02:43.154021Z"
    }
   },
   "cell_type": "code",
   "source": [
    "from pathlib import Path\n",
    "import pandas as pd\n",
    "import numpy as np\n",
    "import matplotlib.pyplot as plt"
   ],
   "id": "3b0ebb0657ef6963",
   "outputs": [],
   "execution_count": 101
  },
  {
   "metadata": {},
   "cell_type": "markdown",
   "source": "## Step 1: Data Preprocessing",
   "id": "9085e9561b3e9c3b"
  },
  {
   "metadata": {},
   "cell_type": "markdown",
   "source": "### Load the dataset",
   "id": "5139dab5a2258db3"
  },
  {
   "metadata": {
    "ExecuteTime": {
     "end_time": "2025-09-29T20:31:48.692636Z",
     "start_time": "2025-09-29T20:31:48.687556Z"
    }
   },
   "cell_type": "code",
   "outputs": [],
   "execution_count": 40,
   "source": [
    "DATA_PATH = Path(\"data/raw/Housing-Kaggle.csv\")\n",
    "df = pd.read_csv(\n",
    "    DATA_PATH,\n",
    "    low_memory=False  # avoids dtype guessing issues on wide CSVs\n",
    ")"
   ],
   "id": "d23139158a066995"
  },
  {
   "metadata": {},
   "cell_type": "markdown",
   "source": "### Handle any missing data",
   "id": "2c7433ceadb8f4f5"
  },
  {
   "metadata": {},
   "cell_type": "markdown",
   "source": "__Top missing-value columns__",
   "id": "d983fc5f1fd7b049"
  },
  {
   "metadata": {
    "ExecuteTime": {
     "end_time": "2025-09-29T21:12:59.030388Z",
     "start_time": "2025-09-29T21:12:59.012158Z"
    }
   },
   "cell_type": "code",
   "source": [
    "na_counts = df.isna().sum().sort_values()\n",
    "na_pct = (na_counts / len(df)).round(3)\n",
    "missing_summary = pd.DataFrame({\"na_count\": na_counts, \"na_pct\": na_pct})\n",
    "missing_summary.head(20)"
   ],
   "id": "805578c04cd1702d",
   "outputs": [
    {
     "data": {
      "text/plain": [
       "                  na_count  na_pct\n",
       "price                    0     0.0\n",
       "area                     0     0.0\n",
       "bedrooms                 0     0.0\n",
       "bathrooms                0     0.0\n",
       "stories                  0     0.0\n",
       "mainroad                 0     0.0\n",
       "guestroom                0     0.0\n",
       "basement                 0     0.0\n",
       "hotwaterheating          0     0.0\n",
       "airconditioning          0     0.0\n",
       "parking                  0     0.0\n",
       "prefarea                 0     0.0\n",
       "furnishingstatus         0     0.0"
      ],
      "text/html": [
       "<div>\n",
       "<style scoped>\n",
       "    .dataframe tbody tr th:only-of-type {\n",
       "        vertical-align: middle;\n",
       "    }\n",
       "\n",
       "    .dataframe tbody tr th {\n",
       "        vertical-align: top;\n",
       "    }\n",
       "\n",
       "    .dataframe thead th {\n",
       "        text-align: right;\n",
       "    }\n",
       "</style>\n",
       "<table border=\"1\" class=\"dataframe\">\n",
       "  <thead>\n",
       "    <tr style=\"text-align: right;\">\n",
       "      <th></th>\n",
       "      <th>na_count</th>\n",
       "      <th>na_pct</th>\n",
       "    </tr>\n",
       "  </thead>\n",
       "  <tbody>\n",
       "    <tr>\n",
       "      <th>price</th>\n",
       "      <td>0</td>\n",
       "      <td>0.0</td>\n",
       "    </tr>\n",
       "    <tr>\n",
       "      <th>area</th>\n",
       "      <td>0</td>\n",
       "      <td>0.0</td>\n",
       "    </tr>\n",
       "    <tr>\n",
       "      <th>bedrooms</th>\n",
       "      <td>0</td>\n",
       "      <td>0.0</td>\n",
       "    </tr>\n",
       "    <tr>\n",
       "      <th>bathrooms</th>\n",
       "      <td>0</td>\n",
       "      <td>0.0</td>\n",
       "    </tr>\n",
       "    <tr>\n",
       "      <th>stories</th>\n",
       "      <td>0</td>\n",
       "      <td>0.0</td>\n",
       "    </tr>\n",
       "    <tr>\n",
       "      <th>mainroad</th>\n",
       "      <td>0</td>\n",
       "      <td>0.0</td>\n",
       "    </tr>\n",
       "    <tr>\n",
       "      <th>guestroom</th>\n",
       "      <td>0</td>\n",
       "      <td>0.0</td>\n",
       "    </tr>\n",
       "    <tr>\n",
       "      <th>basement</th>\n",
       "      <td>0</td>\n",
       "      <td>0.0</td>\n",
       "    </tr>\n",
       "    <tr>\n",
       "      <th>hotwaterheating</th>\n",
       "      <td>0</td>\n",
       "      <td>0.0</td>\n",
       "    </tr>\n",
       "    <tr>\n",
       "      <th>airconditioning</th>\n",
       "      <td>0</td>\n",
       "      <td>0.0</td>\n",
       "    </tr>\n",
       "    <tr>\n",
       "      <th>parking</th>\n",
       "      <td>0</td>\n",
       "      <td>0.0</td>\n",
       "    </tr>\n",
       "    <tr>\n",
       "      <th>prefarea</th>\n",
       "      <td>0</td>\n",
       "      <td>0.0</td>\n",
       "    </tr>\n",
       "    <tr>\n",
       "      <th>furnishingstatus</th>\n",
       "      <td>0</td>\n",
       "      <td>0.0</td>\n",
       "    </tr>\n",
       "  </tbody>\n",
       "</table>\n",
       "</div>"
      ]
     },
     "execution_count": 74,
     "metadata": {},
     "output_type": "execute_result"
    }
   ],
   "execution_count": 74
  },
  {
   "metadata": {},
   "cell_type": "markdown",
   "source": "No missing values found; no imputation needed",
   "id": "1105b1452408d3b7"
  },
  {
   "metadata": {},
   "cell_type": "markdown",
   "source": "### EDA (Exploratory Data Analysis)",
   "id": "8cede8357f41e218"
  },
  {
   "metadata": {},
   "cell_type": "markdown",
   "source": "__Numeric summary stats__",
   "id": "381af0ae16b1037c"
  },
  {
   "metadata": {
    "ExecuteTime": {
     "end_time": "2025-09-29T21:28:34.857068Z",
     "start_time": "2025-09-29T21:28:34.846847Z"
    }
   },
   "cell_type": "code",
   "source": "df.describe().T",
   "id": "6844909ef1253ffe",
   "outputs": [
    {
     "data": {
      "text/plain": [
       "           count          mean           std        min        25%        50%  \\\n",
       "price      545.0  4.766729e+06  1.870440e+06  1750000.0  3430000.0  4340000.0   \n",
       "area       545.0  5.150541e+03  2.170141e+03     1650.0     3600.0     4600.0   \n",
       "bedrooms   545.0  2.965138e+00  7.380639e-01        1.0        2.0        3.0   \n",
       "bathrooms  545.0  1.286239e+00  5.024696e-01        1.0        1.0        1.0   \n",
       "stories    545.0  1.805505e+00  8.674925e-01        1.0        1.0        2.0   \n",
       "parking    545.0  6.935780e-01  8.615858e-01        0.0        0.0        0.0   \n",
       "\n",
       "                 75%         max  \n",
       "price      5740000.0  13300000.0  \n",
       "area          6360.0     16200.0  \n",
       "bedrooms         3.0         6.0  \n",
       "bathrooms        2.0         4.0  \n",
       "stories          2.0         4.0  \n",
       "parking          1.0         3.0  "
      ],
      "text/html": [
       "<div>\n",
       "<style scoped>\n",
       "    .dataframe tbody tr th:only-of-type {\n",
       "        vertical-align: middle;\n",
       "    }\n",
       "\n",
       "    .dataframe tbody tr th {\n",
       "        vertical-align: top;\n",
       "    }\n",
       "\n",
       "    .dataframe thead th {\n",
       "        text-align: right;\n",
       "    }\n",
       "</style>\n",
       "<table border=\"1\" class=\"dataframe\">\n",
       "  <thead>\n",
       "    <tr style=\"text-align: right;\">\n",
       "      <th></th>\n",
       "      <th>count</th>\n",
       "      <th>mean</th>\n",
       "      <th>std</th>\n",
       "      <th>min</th>\n",
       "      <th>25%</th>\n",
       "      <th>50%</th>\n",
       "      <th>75%</th>\n",
       "      <th>max</th>\n",
       "    </tr>\n",
       "  </thead>\n",
       "  <tbody>\n",
       "    <tr>\n",
       "      <th>price</th>\n",
       "      <td>545.0</td>\n",
       "      <td>4.766729e+06</td>\n",
       "      <td>1.870440e+06</td>\n",
       "      <td>1750000.0</td>\n",
       "      <td>3430000.0</td>\n",
       "      <td>4340000.0</td>\n",
       "      <td>5740000.0</td>\n",
       "      <td>13300000.0</td>\n",
       "    </tr>\n",
       "    <tr>\n",
       "      <th>area</th>\n",
       "      <td>545.0</td>\n",
       "      <td>5.150541e+03</td>\n",
       "      <td>2.170141e+03</td>\n",
       "      <td>1650.0</td>\n",
       "      <td>3600.0</td>\n",
       "      <td>4600.0</td>\n",
       "      <td>6360.0</td>\n",
       "      <td>16200.0</td>\n",
       "    </tr>\n",
       "    <tr>\n",
       "      <th>bedrooms</th>\n",
       "      <td>545.0</td>\n",
       "      <td>2.965138e+00</td>\n",
       "      <td>7.380639e-01</td>\n",
       "      <td>1.0</td>\n",
       "      <td>2.0</td>\n",
       "      <td>3.0</td>\n",
       "      <td>3.0</td>\n",
       "      <td>6.0</td>\n",
       "    </tr>\n",
       "    <tr>\n",
       "      <th>bathrooms</th>\n",
       "      <td>545.0</td>\n",
       "      <td>1.286239e+00</td>\n",
       "      <td>5.024696e-01</td>\n",
       "      <td>1.0</td>\n",
       "      <td>1.0</td>\n",
       "      <td>1.0</td>\n",
       "      <td>2.0</td>\n",
       "      <td>4.0</td>\n",
       "    </tr>\n",
       "    <tr>\n",
       "      <th>stories</th>\n",
       "      <td>545.0</td>\n",
       "      <td>1.805505e+00</td>\n",
       "      <td>8.674925e-01</td>\n",
       "      <td>1.0</td>\n",
       "      <td>1.0</td>\n",
       "      <td>2.0</td>\n",
       "      <td>2.0</td>\n",
       "      <td>4.0</td>\n",
       "    </tr>\n",
       "    <tr>\n",
       "      <th>parking</th>\n",
       "      <td>545.0</td>\n",
       "      <td>6.935780e-01</td>\n",
       "      <td>8.615858e-01</td>\n",
       "      <td>0.0</td>\n",
       "      <td>0.0</td>\n",
       "      <td>0.0</td>\n",
       "      <td>1.0</td>\n",
       "      <td>3.0</td>\n",
       "    </tr>\n",
       "  </tbody>\n",
       "</table>\n",
       "</div>"
      ]
     },
     "execution_count": 85,
     "metadata": {},
     "output_type": "execute_result"
    }
   ],
   "execution_count": 85
  },
  {
   "metadata": {},
   "cell_type": "markdown",
   "source": "__Target distribution: `Price`__",
   "id": "7bfb5d674a30d56b"
  },
  {
   "metadata": {},
   "cell_type": "markdown",
   "source": [
    "Shows how prices are spread. If the right tail is long, the target is __right-skewed__\n",
    "\n",
    "Skewed targets often benefit from modeling `log(price)`"
   ],
   "id": "b4a057681cc058db"
  },
  {
   "metadata": {
    "ExecuteTime": {
     "end_time": "2025-09-29T22:11:06.817397Z",
     "start_time": "2025-09-29T22:11:06.645009Z"
    }
   },
   "cell_type": "code",
   "source": [
    "plt.figure()\n",
    "df[\"price\"].hist(bins=30)\n",
    "plt.title(\"Price — histogram\")\n",
    "plt.xlabel(\"price\"); plt.ylabel(\"count\")\n",
    "plt.savefig(\"outputs/figures/price_hist.png\", dpi=160, bbox_inches=\"tight\"); plt.show()"
   ],
   "id": "276855526c7f27b5",
   "outputs": [
    {
     "data": {
      "text/plain": [
       "<Figure size 640x480 with 1 Axes>"
      ],
      "image/png": "[encoded data removed]"
     },
     "metadata": {},
     "output_type": "display_data",
     "jetTransient": {
      "display_id": null
     }
    }
   ],
   "execution_count": 102
  },
  {
   "metadata": {},
   "cell_type": "markdown",
   "source": "__Log target distribution: `log(price)`__",
   "id": "c8d5b9b14a8d0670"
  },
  {
   "metadata": {},
   "cell_type": "markdown",
   "source": "If this looks more bell-shaped than raw price, using `log(price)` can improve linear regression fit and stabilize errors",
   "id": "540c9d28f937df4b"
  },
  {
   "metadata": {
    "ExecuteTime": {
     "end_time": "2025-09-29T22:13:08.003664Z",
     "start_time": "2025-09-29T22:13:07.610331Z"
    }
   },
   "cell_type": "code",
   "outputs": [
    {
     "data": {
      "text/plain": [
       "<Figure size 640x480 with 1 Axes>"
      ],
      "image/png": "[encoded data removed]"
     },
     "metadata": {},
     "output_type": "display_data",
     "jetTransient": {
      "display_id": null
     }
    }
   ],
   "execution_count": 104,
   "source": [
    "plt.figure()\n",
    "np.log(df[\"price\"]).hist(bins=30)\n",
    "plt.title(\"log(Price) — histogram\");\n",
    "plt.xlabel(\"log(price)\");\n",
    "plt.ylabel(\"count\")\n",
    "plt.savefig(\"outputs/figures/log_price_hist.png\", dpi=180, bbox_inches=\"tight\");\n",
    "plt.show()"
   ],
   "id": "fa5028bb8ffc766f"
  }
 ],
 "metadata": {
  "kernelspec": {
   "name": "python3",
   "language": "python",
   "display_name": "Python 3 (ipykernel)"
  }
 },
 "nbformat": 4,
 "nbformat_minor": 5
}
